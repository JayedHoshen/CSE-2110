{
 "cells": [
  {
   "cell_type": "markdown",
   "metadata": {
    "id": "e1ae23fd-15b3-4039-ac57-b70942cc5e03"
   },
   "source": [
    "## Quiz on 1D Numpy Array\n"
   ]
  },
  {
   "cell_type": "markdown",
   "metadata": {
    "id": "0a62eb3f-052a-4e83-8721-b893de90b38f"
   },
   "source": [
    "Implement the following vector subtraction in numpy: u-v\n"
   ]
  },
  {
   "cell_type": "code",
   "execution_count": 38,
   "metadata": {
    "id": "e0792e22-0c12-403a-a0cf-e3ddb12533a4"
   },
   "outputs": [
    {
     "name": "stdout",
     "output_type": "stream",
     "text": [
      "Result = [ 1 -1]\n"
     ]
    }
   ],
   "source": [
    "import numpy as np\n",
    "u = np.array([1, 0])\n",
    "v = np.array([0, 1])\n",
    "\n",
    "result=u-v\n",
    "print(\"Result =\",result)"
   ]
  },
  {
   "cell_type": "markdown",
   "metadata": {
    "id": "57ca2135-f36e-442d-8e90-447745fb63df"
   },
   "source": [
    "<hr>\n"
   ]
  },
  {
   "cell_type": "markdown",
   "metadata": {
    "id": "6cdd31e8-9ac8-46f5-acb9-aece21b381af"
   },
   "source": [
    "Multiply the numpy array z with -2:\n"
   ]
  },
  {
   "cell_type": "code",
   "execution_count": 37,
   "metadata": {
    "id": "7cdd42a2-261c-4448-9b27-aa68211a758c"
   },
   "outputs": [
    {
     "name": "stdout",
     "output_type": "stream",
     "text": [
      "Result = [-4 -8]\n"
     ]
    }
   ],
   "source": [
    "z = np.array([2, 4])\n",
    "z=z*-2\n",
    "print(\"Result =\",z)"
   ]
  },
  {
   "cell_type": "markdown",
   "metadata": {
    "id": "24579b6c-8eeb-4fa7-b017-2df610565723"
   },
   "source": [
    "<hr>\n"
   ]
  },
  {
   "cell_type": "markdown",
   "metadata": {
    "id": "ab6589c1-191a-48cf-85d9-d009acdbd7a8"
   },
   "source": [
    "Consider the list <code>\\[1, 2, 3, 4, 5]</code> and <code>\\[1, 0, 1, 0, 1]</code>. Cast both lists to a numpy array then multiply them together:\n"
   ]
  },
  {
   "cell_type": "code",
   "execution_count": 16,
   "metadata": {
    "id": "adc7605b-1112-413e-a137-f313ac3f5325"
   },
   "outputs": [
    {
     "name": "stdout",
     "output_type": "stream",
     "text": [
      "Result = [1 0 3 0 5]\n"
     ]
    }
   ],
   "source": [
    "list1=np.array([1, 2, 3, 4, 5])\n",
    "list2=np.array([1, 0, 1, 0, 1])\n",
    "result=list1*list2\n",
    "print(\"Result =\",result)"
   ]
  },
  {
   "cell_type": "markdown",
   "metadata": {
    "id": "acb84406-1890-4dff-82e0-ddca3b8959d8"
   },
   "source": [
    "<hr>\n"
   ]
  },
  {
   "cell_type": "markdown",
   "metadata": {
    "id": "6884af5c-b408-439d-8ec6-e55716f29f98"
   },
   "source": [
    "Convert the list <code>\\[1, 2, 3]</code> and <code>\\[8, 9, 10]</code> to numpy arrays <code>arr1</code> and <code>arr2</code>. Then perform <code>Addition</code> , <code>Subtraction</code> , <code>Multiplication</code> , <code>Division</code> and <code>Dot Operation</code> on the <code>arr1</code> and <code>arr2</code>.\n",
    "\n"
   ]
  },
  {
   "cell_type": "code",
   "execution_count": 36,
   "metadata": {
    "id": "42bf0533-c954-4b83-a832-833905642792"
   },
   "outputs": [
    {
     "name": "stdout",
     "output_type": "stream",
     "text": [
      "All Operation Result : \n",
      "Addition = [ 9 11 13]\n",
      "Subtraction = [-7 -7 -7]\n",
      "Multiplication = [ 8 18 30]\n",
      "Division = [0.125      0.22222222 0.3       ]\n",
      "Dot Operation = 56\n"
     ]
    }
   ],
   "source": [
    "import numpy as np\n",
    "arr1=np.array([1, 2, 3])\n",
    "arr2=np.array([8, 9, 10])\n",
    "\n",
    "Add=np.add(arr1,arr2)\n",
    "Sub=np.subtract(arr1,arr2)\n",
    "Mul=np.multiply(arr1,arr2)\n",
    "Div=np.divide(arr1,arr2)\n",
    "Dot=np.dot(arr1,arr2)\n",
    "print(\"All Operation Result : \")\n",
    "print(\"Addition =\",Add)\n",
    "print(\"Subtraction =\",Sub)\n",
    "print(\"Multiplication =\",Mul)\n",
    "print(\"Division =\",Div)\n",
    "print(\"Dot Operation =\",Dot)"
   ]
  },
  {
   "cell_type": "markdown",
   "metadata": {
    "id": "45333264-438e-434a-9647-0d383584d5e0"
   },
   "source": [
    "Convert the list <code>\\[1, 2, 3, 4, 5]</code> and <code>\\[6, 7, 8, 9, 10]</code> to numpy arrays <code>arr1</code> and <code>arr2</code>. Then find the even and odd numbers from <code>arr1</code> and <code>arr2</code>.\n"
   ]
  },
  {
   "cell_type": "code",
   "execution_count": 19,
   "metadata": {
    "id": "354ec8e4-410c-44da-b9d4-461862ae3aa6"
   },
   "outputs": [
    {
     "name": "stdout",
     "output_type": "stream",
     "text": [
      "Even element from array1 = [2 4]\n",
      "Odd element from array1 = [1 3 5]\n",
      "Even element from array2 = [ 6  8 10]\n",
      "Odd element from array2 = [7 9]\n"
     ]
    }
   ],
   "source": [
    "arr1 = np.array([1, 2, 3, 4, 5])\n",
    "arr2 = np.array([6, 7, 8, 9, 10])\n",
    "\n",
    "even_1 = arr1[1:5:2]\n",
    "print(\"Even element from array1 =\",even_1)\n",
    "\n",
    "odd_1=arr1[0:5:2]\n",
    "print(\"Odd element from array1 =\",odd_1)\n",
    "\n",
    "even_2 = arr2[0:5:2]\n",
    "print(\"Even element from array2 =\",even_2)\n",
    "    \n",
    "odd_2=arr2[1:5:2]\n",
    "print(\"Odd element from array2 =\",odd_2)"
   ]
  },
  {
   "cell_type": "markdown",
   "metadata": {},
   "source": []
  },
  {
   "cell_type": "markdown",
   "metadata": {},
   "source": [
    "<h2>Quiz on 2D Numpy Array</h2>\n"
   ]
  },
  {
   "cell_type": "markdown",
   "metadata": {},
   "source": [
    "Consider the following list <code>a</code>, convert it to Numpy Array.\n"
   ]
  },
  {
   "cell_type": "code",
   "execution_count": 21,
   "metadata": {},
   "outputs": [
    {
     "name": "stdout",
     "output_type": "stream",
     "text": [
      "[[ 1  2  3  4]\n",
      " [ 5  6  7  8]\n",
      " [ 9 10 11 12]]\n"
     ]
    }
   ],
   "source": [
    "a = [[1, 2, 3, 4], [5, 6, 7, 8], [9, 10, 11, 12]]\n",
    "\n",
    "arr=np.array(a)\n",
    "print(arr)"
   ]
  },
  {
   "cell_type": "markdown",
   "metadata": {},
   "source": [
    "Calculate the numpy array size.\n"
   ]
  },
  {
   "cell_type": "code",
   "execution_count": 23,
   "metadata": {},
   "outputs": [
    {
     "name": "stdout",
     "output_type": "stream",
     "text": [
      "12\n"
     ]
    }
   ],
   "source": [
    "length=arr.size\n",
    "print(length)"
   ]
  },
  {
   "cell_type": "markdown",
   "metadata": {},
   "source": [
    "Access the element on the first row and first and second columns.\n"
   ]
  },
  {
   "cell_type": "code",
   "execution_count": 25,
   "metadata": {},
   "outputs": [
    {
     "data": {
      "text/plain": [
       "array([1, 2])"
      ]
     },
     "execution_count": 25,
     "metadata": {},
     "output_type": "execute_result"
    }
   ],
   "source": [
    "arr[0][0:2]"
   ]
  },
  {
   "cell_type": "markdown",
   "metadata": {},
   "source": [
    "Perform matrix multiplication with the numpy arrays <code>A</code> and <code>B</code>.\n"
   ]
  },
  {
   "cell_type": "code",
   "execution_count": 33,
   "metadata": {},
   "outputs": [
    {
     "name": "stdout",
     "output_type": "stream",
     "text": [
      "Result matrix multiplication: \n",
      " [[ 1  4]\n",
      " [ 5 12]\n",
      " [ 9 20]]\n"
     ]
    }
   ],
   "source": [
    "A = np.array([[1, 2, 3, 4], [5, 6, 7, 8], [9, 10, 11, 12]])\n",
    "B = np.array([[0, 1], [1, 0], [1, 1], [-1, 0]])\n",
    "result=np.dot(A,B)\n",
    "print(\"Result matrix multiplication: \\n\",result)"
   ]
  },
  {
   "cell_type": "code",
   "execution_count": null,
   "metadata": {},
   "outputs": [],
   "source": []
  }
 ],
 "metadata": {
  "colab": {
   "provenance": []
  },
  "kernelspec": {
   "display_name": "Python 3 (ipykernel)",
   "language": "python",
   "name": "python3"
  },
  "language_info": {
   "codemirror_mode": {
    "name": "ipython",
    "version": 3
   },
   "file_extension": ".py",
   "mimetype": "text/x-python",
   "name": "python",
   "nbconvert_exporter": "python",
   "pygments_lexer": "ipython3",
   "version": "3.12.7"
  }
 },
 "nbformat": 4,
 "nbformat_minor": 4
}
