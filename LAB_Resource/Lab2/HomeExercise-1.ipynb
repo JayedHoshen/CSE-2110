{
 "cells": [
  {
   "cell_type": "markdown",
   "metadata": {
    "id": "old-audHBpBi"
   },
   "source": [
    "# Home Exercise 1"
   ]
  },
  {
   "cell_type": "code",
   "execution_count": null,
   "metadata": {},
   "outputs": [],
   "source": [
    "Name    : Jayed hoshen\n",
    "ID      : 2204076\n",
    "Section : B1"
   ]
  },
  {
   "cell_type": "markdown",
   "metadata": {
    "id": "nykhTJEFBpBp"
   },
   "source": [
    "### String Operations\n",
    "Given a string \"Hello World\", reverse the string using slicing."
   ]
  },
  {
   "cell_type": "code",
   "execution_count": 13,
   "metadata": {
    "colab": {
     "base_uri": "https://localhost:8080/",
     "height": 0
    },
    "executionInfo": {
     "elapsed": 1643,
     "status": "ok",
     "timestamp": 1729697889785,
     "user": {
      "displayName": "Jayed Hoshen",
      "userId": "09304275532596334551"
     },
     "user_tz": -360
    },
    "id": "ALVvnARDBpBq",
    "outputId": "5e67a72f-0083-49a8-a774-8b13100817f8"
   },
   "outputs": [
    {
     "name": "stdout",
     "output_type": "stream",
     "text": [
      "dlroW olleH\n"
     ]
    }
   ],
   "source": [
    "givenString = \"Hello World\"\n",
    "print(givenString[::-1])"
   ]
  },
  {
   "cell_type": "markdown",
   "metadata": {
    "id": "l5mbc0B6BpBr"
   },
   "source": [
    "### String Slicing\n",
    "Given a string, extract a substring using slicing. For example, extract the word \"quick\" from the sentence, \"The quick brown fox jumps over the lazy dog\""
   ]
  },
  {
   "cell_type": "code",
   "execution_count": 15,
   "metadata": {
    "id": "v01DOQJ2BpBr"
   },
   "outputs": [
    {
     "name": "stdout",
     "output_type": "stream",
     "text": [
      "quick\n"
     ]
    }
   ],
   "source": [
    "name = \"The quick brown fox jumps over the lazy dog\"\n",
    "sz = name.find(\"quick\")\n",
    "print(name[sz : sz+5])"
   ]
  },
  {
   "cell_type": "markdown",
   "metadata": {
    "id": "f3urooHTBpBs"
   },
   "source": [
    "### String Split with a Specific Delimiter\n",
    "Split a date string into day, month, and year. (e,g., date =\"10-18-2024')"
   ]
  },
  {
   "cell_type": "code",
   "execution_count": 18,
   "metadata": {
    "id": "KHQ_CgtJBpBs"
   },
   "outputs": [
    {
     "data": {
      "text/plain": [
       "['10', '18', '2024']"
      ]
     },
     "execution_count": 18,
     "metadata": {},
     "output_type": "execute_result"
    }
   ],
   "source": [
    "date = \"10-18-2024\"\n",
    "date.split('-')"
   ]
  },
  {
   "cell_type": "markdown",
   "metadata": {
    "id": "rPavcum0BpBt"
   },
   "source": [
    "### Regular Expressions\n",
    "Checks if a given email address is valid (contains \"@\" and \".com\" or \".org\")."
   ]
  },
  {
   "cell_type": "code",
   "execution_count": 13,
   "metadata": {
    "id": "DI0nYJfPBpBu"
   },
   "outputs": [
    {
     "name": "stdout",
     "output_type": "stream",
     "text": [
      "Valid email\n"
     ]
    }
   ],
   "source": [
    "import re\n",
    "mail = \"jayedkn@gmail.com\"\n",
    "\n",
    "if re.match(r\"\\w+@\\w+\\.+\\w\", mail) :\n",
    "    print(\"Valid email\")\n",
    "else :\n",
    "    print(\"Imvalid email\")"
   ]
  },
  {
   "cell_type": "markdown",
   "metadata": {
    "id": "W3gTJ2f-BpBu"
   },
   "source": [
    "### String Replace\n",
    "Write a program that replaces all occurrences of the word \"apple\" with \"orange\" in a given string, \"I like apple. Apple is sweet.\""
   ]
  },
  {
   "cell_type": "code",
   "execution_count": 23,
   "metadata": {},
   "outputs": [
    {
     "name": "stdout",
     "output_type": "stream",
     "text": [
      "I like orange. orange is sweet.\n"
     ]
    }
   ],
   "source": [
    "import re\n",
    "str = \"I like apple. Apple is sweet.\"\n",
    "pattern = r\"apple\"\n",
    "replacement = \"orange\"\n",
    "new_string = re.sub(pattern, replacement, str, flags=re.IGNORECASE)\n",
    "print(new_string)"
   ]
  },
  {
   "cell_type": "markdown",
   "metadata": {
    "id": "3dRyZuOcBpBu"
   },
   "source": [
    "### Dictionaries\n",
    "Write a program that stores the names and ages of 3 people in a dictionary and prints the name of the person with the highest age."
   ]
  },
  {
   "cell_type": "code",
   "execution_count": 25,
   "metadata": {
    "id": "ytroCamCBpBv"
   },
   "outputs": [
    {
     "name": "stdout",
     "output_type": "stream",
     "text": [
      "Name : 'person3'\n",
      "Age : 30\n"
     ]
    }
   ],
   "source": [
    "info = {\"person1\":22,\"person2\": 26, \"person3\":30}\n",
    "max_age = max(info.values())\n",
    "for name, age in info.items():\n",
    "  if age == max_age:\n",
    "    print(f\"Name : '{name}'\\nAge : {age}\")"
   ]
  },
  {
   "cell_type": "markdown",
   "metadata": {
    "id": "lTc6-yOLBpBv"
   },
   "source": [
    "### Simple Student Attendance System\n",
    "#### Problem:\n",
    "Create a system that tracks attendance using a dictionary. The dictionary should store student names as keys and a list of strings as values, where each string is the date of their attendance. Perform the following tasks:\n",
    "\n",
    "* Add a new attendance record for a student.\n",
    "* Remove a student from the system.\n",
    "* Print the attendance of all students.\n",
    "\n",
    "Sample Input:\n",
    "\n",
    "attendance = {\n",
    "    \"Alice\": [\"2023-10-01\", \"2023-10-02\"],\n",
    "    \"Bob\": [\"2023-10-01\"]\n",
    "}\n",
    "\n",
    "* Add: Attendance for \"Alice\" on \"2023-10-03\"\n",
    "* Remove: \"Bob\""
   ]
  },
  {
   "cell_type": "code",
   "execution_count": 28,
   "metadata": {
    "id": "MUuJn2gtBpBv"
   },
   "outputs": [
    {
     "name": "stdout",
     "output_type": "stream",
     "text": [
      "{'Alice': ['2023-10-01', '2023-10-02', '2023-10-03', '2023-10-04'], 'person1': ['2023-10-03', '2023-10-04']}\n"
     ]
    }
   ],
   "source": [
    "attendance = { \"Alice\": [\"2023-10-01\", \"2023-10-02\"], \"Bob\": [\"2023-10-01\"] }\n",
    "\n",
    "attendance[\"Alice\"].append(\"2023-10-03\")\n",
    "attendance[\"Alice\"].append(\"2023-10-04\")\n",
    "attendance[\"person1\"]=[\"2023-10-03\"]\n",
    "attendance[\"person1\"].append(\"2023-10-04\")\n",
    "\n",
    "del attendance[\"Bob\"]\n",
    "print(attendance)"
   ]
  },
  {
   "cell_type": "markdown",
   "metadata": {
    "id": "1b48u4hFBpBv"
   },
   "source": [
    "### Simple Phone Book Directory\n",
    "#### Problem:\n",
    "Create a phone book using a dictionary where names are the keys and phone numbers are the values. Perform the following tasks:\n",
    "\n",
    "* Add a new contact.\n",
    "* Remove a contact.\n",
    "* Update a contact's phone number.\n",
    "* Print the entire phone book.\n",
    "\n",
    "Sample Input:\n",
    "\n",
    "phone_book = {\"John\": \"123-4567\", \"Jane\": \"987-6543\"}\n",
    "\n",
    "* Add: \"Mike\" with phone number \"555-1212\"\n",
    "* Remove: \"Jane\"\n",
    "* Update: \"John\" to \"111-2222\""
   ]
  },
  {
   "cell_type": "code",
   "execution_count": 29,
   "metadata": {
    "id": "qONHiohwBpBw"
   },
   "outputs": [
    {
     "name": "stdout",
     "output_type": "stream",
     "text": [
      "{'John': '111-2222', 'jayed': '222-7809', 'Mike': '555-1212'}\n"
     ]
    }
   ],
   "source": [
    "Phone_book = {\"John\": \"123-4567\", \"Jane\": \"987-6543\", \"jayed\":\"222-7809\"}\n",
    "\n",
    "Phone_book[\"Mike\"] = \"555-1212\"\n",
    "del Phone_book[\"Jane\"]\n",
    "Phone_book[\"John\"] = \"111-2222\"\n",
    "\n",
    "print(Phone_book)"
   ]
  }
 ],
 "metadata": {
  "colab": {
   "provenance": []
  },
  "kernelspec": {
   "display_name": "Python 3",
   "language": "python",
   "name": "python3"
  },
  "language_info": {
   "codemirror_mode": {
    "name": "ipython",
    "version": 3
   },
   "file_extension": ".py",
   "mimetype": "text/x-python",
   "name": "python",
   "nbconvert_exporter": "python",
   "pygments_lexer": "ipython3",
   "version": "3.12.7"
  }
 },
 "nbformat": 4,
 "nbformat_minor": 0
}
